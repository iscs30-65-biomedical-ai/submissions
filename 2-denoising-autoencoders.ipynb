{
 "cells": [
  {
   "cell_type": "markdown",
   "id": "bf1b20ee",
   "metadata": {},
   "source": [
    "# Submission 2: Denoising Autoencoders\n",
    "Trains CNN autoencoders to denoise pneumonia images based on [Medical image denoising using convolutional denoising autoencoders](https://arxiv.org/pdf/1608.04667.pdf). Contains 3 CNN autoencoders:\n",
    "1. Autoencoder for denoising noisy images with lambda = 25\n",
    "2. Autoencoder for denoising noisy images with lambda = 50\n",
    "3. Autoencoder for denoising noisy images with lambda = 75"
   ]
  },
  {
   "cell_type": "markdown",
   "id": "0e68dde9",
   "metadata": {},
   "source": [
    "### Import Libraries"
   ]
  },
  {
   "cell_type": "code",
   "execution_count": 1,
   "id": "d00f773b",
   "metadata": {},
   "outputs": [],
   "source": [
    "from sklearn.model_selection import train_test_split\n",
    "import os\n",
    "from torchvision import datasets, transforms\n",
    "from torchvision.transforms import ToTensor\n",
    "import pandas as pd\n",
    "from io import StringIO\n",
    "from torch.utils.data import Dataset, DataLoader, Subset\n",
    "import torch.nn as nn\n",
    "from PIL import Image\n",
    "import torch\n",
    "from matplotlib import pyplot as plt\n",
    "from skimage.util import random_noise\n",
    "import numpy as np"
   ]
  },
  {
   "cell_type": "markdown",
   "id": "77ac2613",
   "metadata": {},
   "source": [
    "### Load Dataset"
   ]
  },
  {
   "cell_type": "code",
   "execution_count": 2,
   "id": "b9627b2f",
   "metadata": {},
   "outputs": [],
   "source": [
    "original_ds_path = r\"datasets/pneumonia\"\n",
    "original_ds_filenames = os.listdir(original_ds_path)"
   ]
  },
  {
   "cell_type": "code",
   "execution_count": 3,
   "id": "25e6f85d-2e5a-43a6-99ca-c241916dbb3b",
   "metadata": {},
   "outputs": [],
   "source": [
    "# Dataset of clean (no noise) pneumonia images\n",
    "class CleanDataset(Dataset):\n",
    "    def __init__(self, img_dir):\n",
    "        self.img_dir = img_dir\n",
    "        self.img_labels = pd.DataFrame([filename for filename in original_ds_filenames])\n",
    "\n",
    "    def __len__(self):\n",
    "        return len(self.img_labels)\n",
    "\n",
    "    def __getitem__(self, idx):\n",
    "        # Generate image filepath\n",
    "        filename = self.img_labels.iloc[idx, 0]\n",
    "        img_path = self.img_dir + \"/\" + filename\n",
    "        \n",
    "        # Read image and label/filename\n",
    "        image = Image.open(img_path)\n",
    "        label = self.img_labels.iloc[idx]\n",
    "        return image, label"
   ]
  },
  {
   "cell_type": "code",
   "execution_count": 4,
   "id": "1ccf66d3-023a-4f59-94aa-81a86a268f8e",
   "metadata": {
    "scrolled": true
   },
   "outputs": [],
   "source": [
    "original_ds = CleanDataset(img_dir=original_ds_path)"
   ]
  },
  {
   "cell_type": "code",
   "execution_count": 5,
   "id": "3078df92",
   "metadata": {},
   "outputs": [
    {
     "name": "stdout",
     "output_type": "stream",
     "text": [
      "Training samples: 1850 (79.98270644185041% of data)\n",
      "Test samples: 463 (20.01729355814959% of data)\n"
     ]
    }
   ],
   "source": [
    "# Get indices to split data into 80% training and 20% test data\n",
    "train_filenames, test_filenames = train_test_split(original_ds_filenames, train_size=0.8, random_state=0)\n",
    "\n",
    "# Generate training and test sets from indices\n",
    "train_ds = Subset(original_ds, train_filenames)\n",
    "test_ds = Subset(original_ds, test_filenames)\n",
    "\n",
    "print(f\"Training samples: {len(train_ds)} ({len(train_ds)/len(original_ds)*100}% of data)\")\n",
    "print(f\"Test samples: {len(test_ds)} ({len(test_ds)/len(original_ds)*100}% of data)\")"
   ]
  },
  {
   "cell_type": "markdown",
   "id": "e22ca378",
   "metadata": {},
   "source": [
    "### Generating Noisy Images"
   ]
  },
  {
   "cell_type": "code",
   "execution_count": 6,
   "id": "c930fbd7-1c03-40b4-82ab-09e4f8f76a45",
   "metadata": {},
   "outputs": [],
   "source": [
    "# Dataset of noisy pneumonia images\n",
    "class NoisyDataset(Dataset):\n",
    "    def __init__(self, img_dir, filenames, noise_lambda):\n",
    "        self.img_dir = img_dir\n",
    "        self.filenames = filenames\n",
    "        self.noise_lambda = noise_lambda\n",
    "        self.preprocessing = transforms.Compose([\n",
    "            transforms.Resize((64, 64)),  # Resize images to 64x64\n",
    "            transforms.Grayscale(num_output_channels=1),  # Convert images to grayscale\n",
    "        ])\n",
    "\n",
    "    def __len__(self):\n",
    "        return len(self.filenames)\n",
    "\n",
    "    def __getitem__(self, idx):\n",
    "        # Generate image filepath\n",
    "        filename = self.filenames.iloc[idx, 0]\n",
    "        img_path = self.img_dir + \"/\" + filename\n",
    "\n",
    "        # Read image and label/filename\n",
    "        clean_img = Image.open(img_path)\n",
    "\n",
    "        # Apply preprocessing in DAE paper\n",
    "        clean_img = self.preprocessing(clean_img)\n",
    "\n",
    "        # Add noise\n",
    "        to_tensor = transforms.PILToTensor() \n",
    "        clean_img_tensor = to_tensor(clean_img).float()\n",
    "\n",
    "        noise = np.random.poisson(lam=self.noise_lambda, size=clean_img_tensor.shape).astype(np.float32)\n",
    "        noisy_img_tensor = clean_img_tensor + torch.from_numpy(noise)\n",
    "\n",
    "        noisy_img_tensor = torch.clamp(noisy_img_tensor, 0, 255)\n",
    "        \n",
    "        return noisy_img_tensor, clean_img_tensor"
   ]
  },
  {
   "cell_type": "code",
   "execution_count": 7,
   "id": "f7bbe820-9d51-4d5b-b0b9-2d5f239de2ab",
   "metadata": {},
   "outputs": [],
   "source": [
    "# Create 3 sets of noisy images based on the original dataset\n",
    "noisy25_ds = NoisyDataset(img_dir = original_ds_path,\n",
    "                          filenames = original_ds.img_labels,\n",
    "                          noise_lambda = 25)\n",
    "\n",
    "noisy50_ds = NoisyDataset(img_dir = original_ds_path,\n",
    "                          filenames = original_ds.img_labels,\n",
    "                          noise_lambda = 50)\n",
    "\n",
    "noisy75_ds = NoisyDataset(img_dir = original_ds_path,\n",
    "                          filenames = original_ds.img_labels,\n",
    "                          noise_lambda = 75)"
   ]
  },
  {
   "cell_type": "code",
   "execution_count": 8,
   "id": "80f41186-f863-4757-ac51-eca982b66c45",
   "metadata": {},
   "outputs": [],
   "source": [
    "# Create dataloaders\n",
    "noisy25_loader = DataLoader(noisy25_ds, batch_size=16)\n",
    "\n",
    "noisy50_loader = DataLoader(noisy50_ds, batch_size=16)\n",
    "\n",
    "noisy75_loader = DataLoader(noisy75_ds, batch_size=16)"
   ]
  },
  {
   "cell_type": "code",
   "execution_count": 9,
   "id": "45d0b5ed-49da-4dfe-a432-b00d11e044d4",
   "metadata": {},
   "outputs": [],
   "source": [
    "def show_sample_img(loader, lambda_val):\n",
    "    # Display images with and without noise\n",
    "    noisy_imgs, clean_imgs = next(iter(loader))\n",
    "    \n",
    "    noisy_img = torch.reshape(noisy_imgs[0], (64, 64, 1))\n",
    "    clean_img = torch.reshape(clean_imgs[0], (64, 64, 1))\n",
    "    \n",
    "    imgs = [noisy_img, clean_img]\n",
    "    \n",
    "    figure = plt.figure(figsize=(8, 8))\n",
    "    cols, rows = 2, 1\n",
    "    for i in range(1, cols * rows + 1):\n",
    "        figure.add_subplot(rows, cols, i)\n",
    "        plt.axis(\"off\")\n",
    "        plt.imshow(imgs[i-1].squeeze(), cmap=\"Greys\")\n",
    "    \n",
    "    print(\"With Noise (Left) vs Without Noise (Right) in noisy dataset with lambda =\", lambda_val)\n",
    "    plt.show()"
   ]
  },
  {
   "cell_type": "code",
   "execution_count": 10,
   "id": "32ee44c7-1399-460b-9e0e-05f73c114f1b",
   "metadata": {},
   "outputs": [
    {
     "name": "stdout",
     "output_type": "stream",
     "text": [
      "With Noise (Left) vs Without Noise (Right) in noisy dataset with lambda = 25\n"
     ]
    },
    {
     "data": {
      "image/png": "[encoded data removed]",
      "text/plain": [
       "<Figure size 800x800 with 2 Axes>"
      ]
     },
     "metadata": {},
     "output_type": "display_data"
    }
   ],
   "source": [
    "show_sample_img(noisy25_loader, '25')"
   ]
  },
  {
   "cell_type": "code",
   "execution_count": 11,
   "id": "d232fd79-3fc5-4171-9894-ee69a4adc34c",
   "metadata": {},
   "outputs": [
    {
     "name": "stdout",
     "output_type": "stream",
     "text": [
      "With Noise (Left) vs Without Noise (Right) in noisy dataset with lambda = 50\n"
     ]
    },
    {
     "data": {
      "image/png": "[encoded data removed]",
      "text/plain": [
       "<Figure size 800x800 with 2 Axes>"
      ]
     },
     "metadata": {},
     "output_type": "display_data"
    }
   ],
   "source": [
    "show_sample_img(noisy50_loader, '50')"
   ]
  },
  {
   "cell_type": "code",
   "execution_count": 12,
   "id": "f235a892-a11c-46c8-87d7-e1a0aaaa89b8",
   "metadata": {},
   "outputs": [
    {
     "name": "stdout",
     "output_type": "stream",
     "text": [
      "With Noise (Left) vs Without Noise (Right) in noisy dataset with lambda = 75\n"
     ]
    },
    {
     "data": {
      "image/png": "[encoded data removed]",
      "text/plain": [
       "<Figure size 800x800 with 2 Axes>"
      ]
     },
     "metadata": {},
     "output_type": "display_data"
    }
   ],
   "source": [
    "show_sample_img(noisy75_loader, '75')"
   ]
  },
  {
   "cell_type": "markdown",
   "id": "d6ddced7-820f-43ec-9cd0-709d20f9dcae",
   "metadata": {},
   "source": [
    "### Training CNN Autoencoders"
   ]
  },
  {
   "cell_type": "code",
   "execution_count": 13,
   "id": "87f27155-2a27-4e5c-87f2-4f95e1980fa8",
   "metadata": {},
   "outputs": [],
   "source": [
    "# Model\n",
    "import torch\n",
    "import torch.nn as nn\n",
    "import torch.optim as optim\n",
    "\n",
    "class CNNAutoencoder(nn.Module):\n",
    "    def __init__(self):\n",
    "        super(CNNAutoencoder, self).__init__()\n",
    "        # Encoder\n",
    "        self.encoder = nn.Sequential(\n",
    "            nn.Conv2d(1, 16, 3, stride=2, padding=1),  # Example for grayscale images, change channels accordingly\n",
    "            nn.ReLU(),\n",
    "            nn.Conv2d(16, 32, 3, stride=2, padding=1),\n",
    "            nn.ReLU(),\n",
    "            nn.Conv2d(32, 64, 7)\n",
    "        )\n",
    "        # Decoder\n",
    "        self.decoder = nn.Sequential(\n",
    "            nn.ConvTranspose2d(64, 32, 7),\n",
    "            nn.ReLU(),\n",
    "            nn.ConvTranspose2d(32, 16, 3, stride=2, padding=1, output_padding=1),\n",
    "            nn.ReLU(),\n",
    "            nn.ConvTranspose2d(16, 1, 3, stride=2, padding=1, output_padding=1),\n",
    "            nn.Sigmoid()  # Use sigmoid for [0,1] scaled images\n",
    "        )\n",
    "\n",
    "    def forward(self, x):\n",
    "        x = self.encoder(x)\n",
    "        x = self.decoder(x)\n",
    "        return x"
   ]
  },
  {
   "cell_type": "code",
   "execution_count": 14,
   "id": "1aa54c56-b146-46b6-a000-2492a1339f0d",
   "metadata": {},
   "outputs": [],
   "source": [
    "# Train Model Func\n",
    "def train_model(model, dataloader, criterion, optimizer, num_epochs=25):\n",
    "    for epoch in range(num_epochs):\n",
    "        model.train()  # Set model to training mode\n",
    "        \n",
    "        running_loss = 0.0\n",
    "        for idx, (inputs, labels) in enumerate(dataloader):\n",
    "            inputs = inputs.to(device)\n",
    "            labels = labels.to(device)\n",
    "            \n",
    "            optimizer.zero_grad()\n",
    "            \n",
    "            outputs = model(inputs)\n",
    "            loss = criterion(outputs, labels)\n",
    "            loss.backward()\n",
    "            optimizer.step()\n",
    "            \n",
    "            running_loss += loss.item() * inputs.size(0)\n",
    "        \n",
    "        epoch_loss = running_loss / len(dataloader.dataset)\n",
    "        print(f'Epoch {epoch+1}/{num_epochs}, Loss: {epoch_loss:.4f}')"
   ]
  },
  {
   "cell_type": "code",
   "execution_count": 15,
   "id": "c0511e40-4c07-4c1d-b047-3f1587b0438b",
   "metadata": {},
   "outputs": [],
   "source": [
    "# Train Model\n",
    "from torch.utils.data import DataLoader\n",
    "\n",
    "# Example for one set, repeat for each noise level dataset\n",
    "device = torch.device(\"cuda\" if torch.cuda.is_available() else \"cpu\")\n",
    "criterion = nn.MSELoss()\n",
    "\n",
    "model_25 = CNNAutoencoder().to(device)\n",
    "optimizer_25 = optim.Adam(model_25.parameters(), lr=0.001)\n",
    "dataloader_25_shuffled = DataLoader(noisy25_ds, batch_size=64, shuffle=True)\n",
    "\n",
    "model_50 = CNNAutoencoder().to(device)\n",
    "optimizer_50 = optim.Adam(model_50.parameters(), lr=0.001)\n",
    "dataloader_50_shuffled = DataLoader(noisy50_ds, batch_size=64, shuffle=True)\n",
    "\n",
    "model_75 = CNNAutoencoder().to(device)\n",
    "optimizer_75 = optim.Adam(model_75.parameters(), lr=0.001)\n",
    "dataloader_75_shuffled = DataLoader(noisy75_ds, batch_size=64, shuffle=True)\n",
    "\n",
    "# Train each model\n",
    "train_model(model_25, dataloader_25_shuffled, criterion, optimizer_25, num_epochs=0)\n",
    "train_model(model_50, dataloader_50_shuffled, criterion, optimizer_50, num_epochs=0)\n",
    "train_model(model_75, dataloader_75_shuffled, criterion, optimizer_75, num_epochs=0)"
   ]
  },
  {
   "cell_type": "markdown",
   "id": "63829813",
   "metadata": {},
   "source": [
    "## Evaluating results"
   ]
  },
  {
   "cell_type": "markdown",
   "id": "ba93b19b",
   "metadata": {},
   "source": [
    "Evaluate your results against the test images by running the error term you used in submission 1 against each model compared with the 4 other classical methods. The result should be the average error value for each configuration.\n"
   ]
  },
  {
   "cell_type": "code",
   "execution_count": 16,
   "id": "a200be83",
   "metadata": {},
   "outputs": [],
   "source": [
    "# filters from submission 1\n",
    "import cv2 as cv\n",
    "import matplotlib.pyplot as pyplot\n",
    "import numpy as np\n",
    "\n",
    "img = cv.imread(\"images/noisy.png\")\n",
    "# pyplot.imshow(img)\n",
    "\n",
    "# median filter\n",
    "def median(img):\n",
    "    kernel_size = 3\n",
    "    median_filter = cv.medianBlur(img, kernel_size)\n",
    "    # pyplot.imshow(np.reshape(median_filter, (64, 64, 1)))\n",
    "    return median_filter\n",
    "\n",
    "# mean filter\n",
    "def mean(img):\n",
    "    kernel_size = [3, 3]\n",
    "    mean_filter = cv.blur(img, kernel_size)\n",
    "    # pyplot.imshow(np.reshape(mean_filter, (64, 64, 1)))\n",
    "    return mean_filter\n",
    "\n",
    "# bilateral filter\n",
    "def bilat(img):\n",
    "    img = np.reshape(img, (64, 64, 1))\n",
    "    size = 15\n",
    "    sigma_color = 5\n",
    "    sigma_space = 75\n",
    "    bilateral_filter = cv.bilateralFilter(img, size, sigma_color, sigma_space)\n",
    "    # pyplot.imshow(bilateral_filter)\n",
    "    return bilateral_filter\n",
    "\n",
    "# gaussian blur filter\n",
    "def gauss(img):\n",
    "    kernel_size = [5, 5]\n",
    "    std_dev = 0 #passing 0 will make function auto compute std dev\n",
    "    gauss_blur = cv.GaussianBlur(img,kernel_size,std_dev)\n",
    "    # pyplot.imshow(np.reshape(gauss_blur, (64, 64, 1)))\n",
    "    return gauss_blur"
   ]
  },
  {
   "cell_type": "code",
   "execution_count": 17,
   "id": "195501ec",
   "metadata": {},
   "outputs": [],
   "source": [
    "# mean squared error function from submission 1\n",
    "def mse(img_a, img_b):\n",
    "    c, h, w = img_a.shape\n",
    "\n",
    "    if (img_b.shape == (64, 64)):\n",
    "        img_b = np.reshape(img_b, (1, 64, 64))\n",
    "\n",
    "    diff = cv.subtract(img_a, img_b)\n",
    "    err = np.sum(diff**2)\n",
    "    mse = err/(float(h*w))\n",
    "    return mse"
   ]
  },
  {
   "cell_type": "code",
   "execution_count": 18,
   "id": "66c62156",
   "metadata": {},
   "outputs": [],
   "source": [
    "def eval_model(loader, lambda_val):\n",
    "    noisy_imgs, clean_imgs = next(iter(loader))\n",
    "    \n",
    "    noisy_imgs = noisy_imgs.numpy()\n",
    "    clean_imgs = clean_imgs.numpy()\n",
    "    \n",
    "    median_score = 0\n",
    "    mean_score = 0\n",
    "    bilat_score = 0\n",
    "    gauss_score = 0\n",
    "    \n",
    "    for image_n, image_c in zip(noisy_imgs, clean_imgs):\n",
    "        img_median = median(image_c)\n",
    "        img_mean = mean(image_c)\n",
    "        img_bilat = bilat(image_c)\n",
    "        img_gauss = gauss(image_c)\n",
    "        median_eval = mse(image_c, img_median)\n",
    "        mean_eval = mse(image_c, img_mean)\n",
    "        bilat_eval = mse(image_c, img_bilat)\n",
    "        gauss_eval = mse(image_c, img_gauss)\n",
    "        median_score += median_eval\n",
    "        mean_score += mean_eval\n",
    "        bilat_score += bilat_eval\n",
    "        gauss_score += gauss_eval\n",
    "\n",
    "    # use mse function\n",
    "    median_score = median_score/len(noisy_imgs)\n",
    "    mean_score = mean_score/len(noisy_imgs)\n",
    "    bilat_score = bilat_score/len(noisy_imgs)\n",
    "    gauss_score = gauss_score/len(noisy_imgs)\n",
    "\n",
    "    print('Evaluation of model with lambda =', lambda_val)\n",
    "    print('MEDIAN eval error:', median_score)\n",
    "    print('MEAN eval error:', mean_score)\n",
    "    print('BILATERAL eval error:', bilat_score)\n",
    "    print('GAUSSIAN eval error:', gauss_score)\n",
    "    print('----------------------------------')"
   ]
  },
  {
   "cell_type": "code",
   "execution_count": 19,
   "id": "341e4495",
   "metadata": {},
   "outputs": [
    {
     "name": "stdout",
     "output_type": "stream",
     "text": [
      "Evaluation of model with lambda = 25\n",
      "MEDIAN eval error: 4.10308837890625\n",
      "MEAN eval error: 21.18251872062683\n",
      "BILATERAL eval error: 1.6172861084342003\n",
      "GAUSSIAN eval error: 24.75271248817444\n",
      "----------------------------------\n"
     ]
    }
   ],
   "source": [
    "# model25\n",
    "eval_model(noisy25_loader, '25')"
   ]
  },
  {
   "cell_type": "code",
   "execution_count": 20,
   "id": "343fd827-e412-4653-bc8e-2e4caa8a7b1a",
   "metadata": {},
   "outputs": [
    {
     "name": "stdout",
     "output_type": "stream",
     "text": [
      "Evaluation of model with lambda = 50\n",
      "MEDIAN eval error: 4.10308837890625\n",
      "MEAN eval error: 21.18251872062683\n",
      "BILATERAL eval error: 1.6172861084342003\n",
      "GAUSSIAN eval error: 24.75271248817444\n",
      "----------------------------------\n"
     ]
    }
   ],
   "source": [
    "# model50\n",
    "eval_model(noisy50_loader, '50')"
   ]
  },
  {
   "cell_type": "code",
   "execution_count": 21,
   "id": "2c8d9322-ac40-4235-8322-3c7bbc54b615",
   "metadata": {},
   "outputs": [
    {
     "name": "stdout",
     "output_type": "stream",
     "text": [
      "Evaluation of model with lambda = 75\n",
      "MEDIAN eval error: 4.10308837890625\n",
      "MEAN eval error: 21.18251872062683\n",
      "BILATERAL eval error: 1.6172861084342003\n",
      "GAUSSIAN eval error: 24.75271248817444\n",
      "----------------------------------\n"
     ]
    }
   ],
   "source": [
    "# model75\n",
    "eval_model(noisy75_loader, '75')"
   ]
  },
  {
   "cell_type": "markdown",
   "id": "48ce62a7",
   "metadata": {},
   "source": [
    "**Why is poisson distribution the ideal one to use to simulate noise for medical images? Why not gaussian or something else? Answer in terms of relevance of medical applications.**\n",
    "\n",
    "The Poisson distribution stands out as the go-to model for simulating noise in medical images due to its close match to the random nature of photon detection, particularly in imaging methods like X-ray and PET scans. It excels in accurately representing situations with low photon counts, which are common in medical imaging, especially when using low radiation doses or capturing areas with minimal tissue density. Moreover, its ability to reflect changes in noise levels according to signal intensity mirrors the real-world behavior seen in medical images. The discrete nature of the Poisson distribution suits the whole number pixel values typical in medical imaging, and it maintains the clarity of edges better compared to the Gaussian distribution. Its solid theoretical grounding in photon counting processes also ensures that the simulated noise aligns well with the statistical properties of actual medical images."
   ]
  },
  {
   "cell_type": "markdown",
   "id": "22c28e18",
   "metadata": {},
   "source": [
    "**Which one performed the best? Why do you think this is the case?**\n",
    "\n",
    "The Bilaterial filter had the best balance between noise reduction and detial preservation. We believe its because it manages to preserve the edge, does selective smoothing, and is very intuitive. It's also very robust."
   ]
  }
 ],
 "metadata": {
  "kernelspec": {
   "display_name": "Python 3 (ipykernel)",
   "language": "python",
   "name": "python3"
  },
  "language_info": {
   "codemirror_mode": {
    "name": "ipython",
    "version": 3
   },
   "file_extension": ".py",
   "mimetype": "text/x-python",
   "name": "python",
   "nbconvert_exporter": "python",
   "pygments_lexer": "ipython3",
   "version": "3.11.4"
  }
 },
 "nbformat": 4,
 "nbformat_minor": 5
}
