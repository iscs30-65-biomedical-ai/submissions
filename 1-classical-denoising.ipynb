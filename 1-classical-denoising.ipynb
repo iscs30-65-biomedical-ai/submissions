{
 "cells": [
  {
   "cell_type": "markdown",
   "id": "0cfc6aab",
   "metadata": {},
   "source": [
    "# Submission 1: Classical Denoising\n",
    "Implementation of the following:\n",
    "1. Median Filter: Replace each pixel with the median value of its neighboring pixels\n",
    "\n",
    "2. Mean Filter: Replace each pixel with the mean value of its neighboring pixels\n",
    "\n",
    "3. Bilateral Filter: Preserves edges while reducing noise by taking into account both spatial and intensity differences.\n",
    "\n",
    "4. Gaussian Blur: Apply a convolution operation using a gaussian kernel to smoothen the image"
   ]
  },
  {
   "cell_type": "code",
   "execution_count": null,
   "id": "19c85cee",
   "metadata": {},
   "outputs": [],
   "source": []
  },
  {
   "cell_type": "markdown",
   "id": "ebdfe96c",
   "metadata": {},
   "source": [
    "## Median Filter"
   ]
  },
  {
   "cell_type": "markdown",
   "id": "54173c99",
   "metadata": {},
   "source": [
    "## Mean Filter"
   ]
  },
  {
   "cell_type": "markdown",
   "id": "1dbb6302",
   "metadata": {},
   "source": [
    "## Bilateral Filter"
   ]
  },
  {
   "cell_type": "markdown",
   "id": "2315860b",
   "metadata": {},
   "source": [
    "## Gaussian Blu"
   ]
  },
  {
   "cell_type": "code",
   "execution_count": null,
   "id": "6a69ec60",
   "metadata": {},
   "outputs": [],
   "source": []
  },
  {
   "cell_type": "markdown",
   "id": "d3af52aa",
   "metadata": {},
   "source": [
    "# Evaluating denoising techniques"
   ]
  },
  {
   "cell_type": "code",
   "execution_count": null,
   "id": "bfb84cf1",
   "metadata": {},
   "outputs": [],
   "source": []
  },
  {
   "cell_type": "code",
   "execution_count": null,
   "id": "d46ed577",
   "metadata": {},
   "outputs": [],
   "source": []
  }
 ],
 "metadata": {
  "kernelspec": {
   "display_name": "Python 3 (ipykernel)",
   "language": "python",
   "name": "python3"
  },
  "language_info": {
   "codemirror_mode": {
    "name": "ipython",
    "version": 3
   },
   "file_extension": ".py",
   "mimetype": "text/x-python",
   "name": "python",
   "nbconvert_exporter": "python",
   "pygments_lexer": "ipython3",
   "version": "3.10.9"
  }
 },
 "nbformat": 4,
 "nbformat_minor": 5
}
