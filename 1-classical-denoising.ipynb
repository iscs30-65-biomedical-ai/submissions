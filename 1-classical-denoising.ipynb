{
 "cells": [
  {
   "cell_type": "markdown",
   "id": "5cbd8e8e",
   "metadata": {},
   "source": [
    "# Submission 1: Classical Denoising\n",
    "Implementation of the following:\n",
    "1. Median Filter: Replace each pixel with the median value of its neighboring pixels\n",
    "\n",
    "2. Mean Filter: Replace each pixel with the mean value of its neighboring pixels\n",
    "\n",
    "3. Bilateral Filter: Preserves edges while reducing noise by taking into account both spatial and intensity differences.\n",
    "\n",
    "4. Gaussian Blur: Apply a convolution operation using a gaussian kernel to smoothen the image"
   ]
  },
  {
   "cell_type": "code",
   "execution_count": null,
   "id": "5d23de3e",
   "metadata": {},
   "outputs": [],
   "source": []
  },
  {
   "cell_type": "markdown",
   "id": "ff370642",
   "metadata": {},
   "source": [
    "### Median Filter"
   ]
  },
  {
   "cell_type": "code",
   "execution_count": null,
   "id": "65473be1",
   "metadata": {},
   "outputs": [],
   "source": []
  },
  {
   "cell_type": "markdown",
   "id": "a6d33620",
   "metadata": {},
   "source": [
    "### Mean Filter"
   ]
  },
  {
   "cell_type": "code",
   "execution_count": null,
   "id": "3d5754d8",
   "metadata": {},
   "outputs": [],
   "source": []
  },
  {
   "cell_type": "markdown",
   "id": "06c928af",
   "metadata": {},
   "source": [
    "### Bilateral Filter"
   ]
  },
  {
   "cell_type": "code",
   "execution_count": null,
   "id": "d9cc8c8b",
   "metadata": {},
   "outputs": [],
   "source": []
  },
  {
   "cell_type": "markdown",
   "id": "0aa95acf",
   "metadata": {},
   "source": [
    "### Gaussian Blur"
   ]
  },
  {
   "cell_type": "code",
   "execution_count": null,
   "id": "bee5b92d",
   "metadata": {},
   "outputs": [],
   "source": []
  },
  {
   "cell_type": "markdown",
   "id": "13e71848",
   "metadata": {},
   "source": [
    "## Evaluating denoising techniques"
   ]
  },
  {
   "cell_type": "code",
   "execution_count": null,
   "id": "f47b668e",
   "metadata": {},
   "outputs": [],
   "source": []
  },
  {
   "cell_type": "markdown",
   "id": "7ad44617",
   "metadata": {},
   "source": [
    "**Which method had the best score? Why do you think this denoising method performed the best (explain in terms of its inherent steps / properties)?**\n",
    "\n",
    "{Answer}"
   ]
  }
 ],
 "metadata": {
  "kernelspec": {
   "display_name": "Python 3 (ipykernel)",
   "language": "python",
   "name": "python3"
  },
  "language_info": {
   "codemirror_mode": {
    "name": "ipython",
    "version": 3
   },
   "file_extension": ".py",
   "mimetype": "text/x-python",
   "name": "python",
   "nbconvert_exporter": "python",
   "pygments_lexer": "ipython3",
   "version": "3.10.9"
  }
 },
 "nbformat": 4,
 "nbformat_minor": 5
}
